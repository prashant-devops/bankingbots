import pandas as pd
import torch
from transformers import BertTokenizer, BertForSequenceClassification, AdamW
from torch.utils.data import DataLoader, Dataset

# Define a custom dataset class
class BankingDataset(Dataset):
    def __init__(self, data_path):
        self.data = pd.read_csv(data_path)

    def __len__(self):
        return len(self.data)

    def __getitem__(self, idx):
        return {
            'text': self.data['utterance'].iloc[idx],
            'label': self.data['intent'].iloc[idx]
        }

# Set device (CPU or GPU)
device = torch.device('cuda' if torch.cuda.is_available() else 'cpu')

# Define hyperparameters
batch_size = 16
learning_rate = 1e-5
num_epochs = 10

# Load and preprocess the dataset
dataset = BankingDataset('https://raw.githubusercontent.com/prashant-devops/bankingbots/dev/datasets/20000-Utterances-Training-dataset-for-chatbots-virtual-assistant-Bitext-sample.csv')

# Split the dataset into training and validation sets
train_size = int(0.8 * len(dataset))
valid_size = len(dataset) - train_size
train_dataset, valid_dataset = torch.utils.data.random_split(dataset, [train_size, valid_size])

# Create data loaders
train_loader = DataLoader(train_dataset, batch_size=batch_size, shuffle=True)
valid_loader = DataLoader(valid_dataset, batch_size=batch_size, shuffle=False)

# Load the pre-trained tokenizer and model
tokenizer = BertTokenizer.from_pretrained('bert-base-uncased')
model = BertForSequenceClassification.from_pretrained('bert-base-uncased', num_labels=2).to(device)

# Define optimizer and loss function
optimizer = AdamW(model.parameters(), lr=learning_rate)
loss_fn = torch.nn.CrossEntropyLoss()

# Training loop
for epoch in range(num_epochs):
    model.train()
    total_loss = 0

    for batch in train_loader:
        texts = batch['text']
        labels = batch['label']

        # Tokenize and encode the input texts
        inputs = tokenizer(texts, padding=True, truncation=True, return_tensors='pt')
        inputs = {key: val.to(device) for key, val in inputs.items()}

        # Forward pass
        outputs = model(**inputs)
        logits = outputs.logits

        # Calculate loss
        loss = loss_fn(logits, labels.to(device))

        # Backward pass and optimization
        optimizer.zero_grad()
        loss.backward()
        optimizer.step()

        total_loss += loss.item()

    # Print training loss for each epoch
    print(f'Epoch {epoch + 1}/{num_epochs}, Training Loss: {total_loss / len(train_loader)}')

    # Validation loop
    model.eval()
    correct = 0
    total = 0

    with torch.no_grad():
        for batch in valid_loader:
            texts = batch['text']
            labels = batch['label']

            # Tokenize and encode the input texts
            inputs = tokenizer(texts, padding=True, truncation=True, return_tensors='pt')
            inputs = {key: val.to(device) for key, val in inputs.items()}

            # Forward pass
            outputs = model(**inputs)
            logits = outputs.logits

            # Predict labels
            predicted_labels = torch.argmax(logits, dim=1)

            # Count correct predictions
            correct += (predicted_labels == labels.to(device)).sum().item()
            total += labels.size(0)

    # Print validation accuracy for each epoch
    accuracy = correct / total
    print(f'Epoch {epoch + 1}/{num_epochs}, Validation Accuracy: {accuracy}')

# Save the trained model
torch.save(model.state_dict(), 'banking_chatbot_model.pt')
